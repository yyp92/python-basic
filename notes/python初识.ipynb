{
 "cells": [
  {
   "cell_type": "markdown",
   "id": "54daa8e1-11ec-4118-85ea-3c89d0ee0ae8",
   "metadata": {},
   "source": [
    "# anaconda 安装连接\n",
    "\n",
    "https://mirror.tuna.tsinghua.edu.cn/help/anaconda/\n",
    "\n",
    "\n",
    "## python包\n",
    "- Flask 是一个轻量级的 Python web 框架，用于快速开发 Web 应用程序。\n",
    "- Keras 是一个用 Python 编写的高级神经网络 API，它的设计理念是方便用户快速搭建和实验各种深度学习模型。\n",
    "- Scikit - learn 是一个用于机器学习的 Python 库，它提供了丰富的机器学习算法、工具和数据集，用于分类、回归、聚类、降维等多种机器学习任务。\n",
    "- Scrapy 是一个用 Python 编写的强大的网络爬虫框架，用于高效地从网站中提取结构化数据。\n",
    "- requests 是一个用 Python 编写的第三方库，用于简化 HTTP 请求的发送过程。\n",
    "- BeautifulSoup 是一个用于解析 HTML 和 XML 文档的 Python 库。\n",
    "- PySpider 是一个强大的 Python 网络爬虫框架，它将网络爬虫的各个环节（如调度、请求、解析、存储等）进行了整合，提供了一套完整的解决方案，使得开发者能够高效地开发和部署网络爬虫项目。"
   ]
  },
  {
   "cell_type": "markdown",
   "id": "dbe94b4b-a077-4ed8-af30-3f75648f3f8a",
   "metadata": {},
   "source": [
    "# anconda 环境管理\n",
    "\n",
    "* 查看环境管理相关的命令\n",
    "```\n",
    "conda env -h\n",
    "```\n",
    "\n",
    "* 查看当前系统环境\n",
    "```\n",
    "conda info -e\n",
    "```\n",
    "\n",
    "* 创建环境\n",
    "```\n",
    "conda create -n env27 python2.7\n",
    "```\n",
    "\n",
    "* 激活进入某个环境\n",
    "```\n",
    "conda activate env_name\n",
    "```\n",
    "\n",
    "* 退出某个环境\n",
    "```\n",
    "conda deactivate env_name\n",
    "```\n",
    "\n",
    "* 删除某个环境\n",
    "```\n",
    "conda remove env_name\n",
    "```"
   ]
  },
  {
   "cell_type": "markdown",
   "id": "4b53dc83-da4d-4838-9192-c966505583ae",
   "metadata": {
    "jp-MarkdownHeadingCollapsed": true
   },
   "source": [
    "# 包管理\n",
    "\n",
    "* 查看已安装的包\n",
    "```\n",
    "conda list\n",
    "```\n",
    "\n",
    "* 指定环境下的包\n",
    "```\n",
    "conda list -n env_name\n",
    "```\n",
    "\n",
    "* 查找包\n",
    "```\n",
    "conda search xxx\n",
    "```\n",
    "\n",
    "* 更新包\n",
    "```\n",
    "conda update xxx\n",
    "```\n",
    "\n",
    "* 安装包\n",
    "```\n",
    "conda install xxx (conda 默认的包管理工具)\n",
    "pip install xxx (python 默认的包管理工具\n",
    "conda update conda\n",
    "```\n",
    "\n",
    "* 删除包\n",
    "```\n",
    "conda remove xxx\n",
    "```"
   ]
  },
  {
   "cell_type": "markdown",
   "id": "0010c697-e218-40d7-aabd-ffa96cc84cd0",
   "metadata": {},
   "source": [
    "# 基础语法\n",
    "## 变量设置\n",
    "- 构成：字母、数字、下划线\n",
    "- 可以用中文，但不建议使用\n",
    "- 不要使用 python 保留的关键字\n",
    "  \n",
    "['False',\n",
    " 'None',\n",
    " 'True',\n",
    " 'and',\n",
    " 'as',\n",
    " 'assert',\n",
    " 'async',\n",
    " 'await',\n",
    " 'break',\n",
    " 'class',\n",
    " 'continue',\n",
    " 'def',\n",
    " 'del',\n",
    " 'elif',\n",
    " 'else',\n",
    " 'except',\n",
    " 'finally',\n",
    " 'for',\n",
    " 'from',\n",
    " 'global',\n",
    " 'if',\n",
    " 'import',\n",
    " 'in',\n",
    " 'is',\n",
    " 'lambda',\n",
    " 'nonlocal',\n",
    " 'not',\n",
    " 'or',\n",
    " 'pass',\n",
    " 'raise',\n",
    " 'return',\n",
    " 'try',\n",
    " 'while',\n",
    " 'with',\n",
    " 'yield']\n"
   ]
  },
  {
   "cell_type": "code",
   "execution_count": 2,
   "id": "adbd0690-aabb-4d94-9f57-537de22b4539",
   "metadata": {
    "scrolled": true
   },
   "outputs": [
    {
     "data": {
      "text/plain": [
       "['False',\n",
       " 'None',\n",
       " 'True',\n",
       " 'and',\n",
       " 'as',\n",
       " 'assert',\n",
       " 'async',\n",
       " 'await',\n",
       " 'break',\n",
       " 'class',\n",
       " 'continue',\n",
       " 'def',\n",
       " 'del',\n",
       " 'elif',\n",
       " 'else',\n",
       " 'except',\n",
       " 'finally',\n",
       " 'for',\n",
       " 'from',\n",
       " 'global',\n",
       " 'if',\n",
       " 'import',\n",
       " 'in',\n",
       " 'is',\n",
       " 'lambda',\n",
       " 'nonlocal',\n",
       " 'not',\n",
       " 'or',\n",
       " 'pass',\n",
       " 'raise',\n",
       " 'return',\n",
       " 'try',\n",
       " 'while',\n",
       " 'with',\n",
       " 'yield']"
      ]
     },
     "execution_count": 2,
     "metadata": {},
     "output_type": "execute_result"
    }
   ],
   "source": [
    "## 获取 python 关键字\n",
    "import keyword\n",
    "keyword.kwlist"
   ]
  },
  {
   "cell_type": "markdown",
   "id": "9bd97f4b-a00b-4c08-b100-86febf29ad63",
   "metadata": {},
   "source": [
    "## 注释\n",
    "```\n",
    "# 第一个注释\n",
    "```"
   ]
  },
  {
   "cell_type": "code",
   "execution_count": null,
   "id": "9ec5f0a1-f90c-4da6-b823-d24af2b574fd",
   "metadata": {},
   "outputs": [],
   "source": [
    "# 这是注释，使用 # 即可"
   ]
  },
  {
   "cell_type": "code",
   "execution_count": null,
   "id": "5490fd5f-cf31-4961-b8f5-63bdd63980fd",
   "metadata": {},
   "outputs": [],
   "source": [
    "'''\n",
    "多行注释，可以使用前后三个引号来完成多行注释\n",
    "'''"
   ]
  },
  {
   "cell_type": "markdown",
   "id": "e5f6960b-8498-4675-a433-3d37a0003ad2",
   "metadata": {},
   "source": [
    "## 缩进\n",
    "在 python 中，如果想要划分代码，需要通过缩进来完成。\n",
    "\n",
    "**注意：如果缩进不一致就会导致代码报错**"
   ]
  },
  {
   "cell_type": "code",
   "execution_count": 3,
   "id": "0a2e6c2a-c82d-4840-9f1f-e92ce244828f",
   "metadata": {},
   "outputs": [
    {
     "name": "stdout",
     "output_type": "stream",
     "text": [
      "条件为真的输出\n",
      "不管条件为真为假都输出\n"
     ]
    }
   ],
   "source": [
    "if True:\n",
    "    print('条件为真的输出')\n",
    "else:\n",
    "    print('条件为假的输出')\n",
    "\n",
    "print('不管条件为真为假都输出')"
   ]
  },
  {
   "cell_type": "markdown",
   "id": "0f704a70-d418-4154-bf56-c3813ffe24cd",
   "metadata": {},
   "source": [
    "## 多行语句\n",
    "**注意：语句很长时，可以用反斜杠（\\）来实现多行语句**"
   ]
  },
  {
   "cell_type": "code",
   "execution_count": 6,
   "id": "a412918d-e6ea-472c-9e7b-366bac9d0c22",
   "metadata": {},
   "outputs": [
    {
     "name": "stdout",
     "output_type": "stream",
     "text": [
      "老陈中陈小陈\n"
     ]
    }
   ],
   "source": [
    "item_one = '老陈'\n",
    "item_two = '中陈'\n",
    "item_three = '小陈'\n",
    "total = item_one + \\\n",
    "        item_two + \\\n",
    "        item_three\n",
    "print(total)"
   ]
  },
  {
   "cell_type": "markdown",
   "id": "adec411a-ebc6-4f92-baf2-da01ab80e4b9",
   "metadata": {},
   "source": [
    "## 数字类型\n",
    "* int(整数)\n",
    "* float(浮点数)\n",
    "* comples(复数) 1+2j\n",
    "\n",
    "## 字符串类型\n",
    "* python 可以使用单引号和双引号\n",
    "* 多行字符串可以用'''可以多行字符串'''"
   ]
  },
  {
   "cell_type": "code",
   "execution_count": 7,
   "id": "977e62f1-6ff0-4c23-bc0a-58c75f3c6cc1",
   "metadata": {},
   "outputs": [
    {
     "name": "stdout",
     "output_type": "stream",
     "text": [
      "helloword\n",
      "hello1\n",
      "hello2\n",
      "hello3\n",
      "\n"
     ]
    }
   ],
   "source": [
    "a = '''helloword\n",
    "hello1\n",
    "hello2\n",
    "hello3\n",
    "'''\n",
    "print(a)"
   ]
  },
  {
   "cell_type": "code",
   "execution_count": 9,
   "id": "10bb7b2d-5394-4f31-bfd2-57de5f5242d9",
   "metadata": {},
   "outputs": [
    {
     "name": "stdin",
     "output_type": "stream",
     "text": [
      "请输入你的用户名 老陈\n"
     ]
    }
   ],
   "source": [
    "username = input('请输入你的用户名')"
   ]
  },
  {
   "cell_type": "code",
   "execution_count": 11,
   "id": "5062c572-8521-403b-b67c-bf643bea4eb0",
   "metadata": {},
   "outputs": [
    {
     "name": "stdout",
     "output_type": "stream",
     "text": [
      "老陈 helloword\n",
      "hello1\n",
      "hello2\n",
      "hello3\n",
      "\n"
     ]
    }
   ],
   "source": [
    "print(username, a)"
   ]
  },
  {
   "cell_type": "code",
   "execution_count": 15,
   "id": "2fc85f9e-e50d-4db3-a133-8f99bea5c0f1",
   "metadata": {},
   "outputs": [
    {
     "name": "stdout",
     "output_type": "stream",
     "text": [
      "/Library/Frameworks/Python.framework/Versions/3.12/lib/python3.12/site-packages/ipykernel_launcher.py\n",
      "-f\n",
      "/Users/yyp92/Library/Jupyter/runtime/kernel-6fe368a9-a0c7-4905-ade1-85688ad2c830.json\n",
      "['/Library/Frameworks/Python.framework/Versions/3.12/lib/python312.zip', '/Library/Frameworks/Python.framework/Versions/3.12/lib/python3.12', '/Library/Frameworks/Python.framework/Versions/3.12/lib/python3.12/lib-dynload', '', '/Library/Frameworks/Python.framework/Versions/3.12/lib/python3.12/site-packages']\n"
     ]
    }
   ],
   "source": [
    "import sys\n",
    "for i in sys.argv:\n",
    "    print(i)\n",
    "print(sys.path)"
   ]
  },
  {
   "cell_type": "code",
   "execution_count": 17,
   "id": "bafe7c62-35c3-47e5-b154-49c43fe95236",
   "metadata": {},
   "outputs": [
    {
     "name": "stdout",
     "output_type": "stream",
     "text": [
      "['/Library/Frameworks/Python.framework/Versions/3.12/lib/python3.12/site-packages/ipykernel_launcher.py', '-f', '/Users/yyp92/Library/Jupyter/runtime/kernel-6fe368a9-a0c7-4905-ade1-85688ad2c830.json']\n",
      "path ['/Library/Frameworks/Python.framework/Versions/3.12/lib/python312.zip', '/Library/Frameworks/Python.framework/Versions/3.12/lib/python3.12', '/Library/Frameworks/Python.framework/Versions/3.12/lib/python3.12/lib-dynload', '', '/Library/Frameworks/Python.framework/Versions/3.12/lib/python3.12/site-packages']\n"
     ]
    }
   ],
   "source": [
    "from sys import argv,path\n",
    "print(argv)\n",
    "print('path', path)"
   ]
  },
  {
   "cell_type": "markdown",
   "id": "3f580e3d-60fe-4bc6-b109-31bf20d09ceb",
   "metadata": {},
   "source": [
    "## 列表\n",
    "\n",
    "python 的基本数据结构，索引是从0开始\n",
    "\n",
    "可以进行通过索引获取取值，通过切片获取列表的某一部分内容"
   ]
  },
  {
   "cell_type": "code",
   "execution_count": 3,
   "id": "fd4c53cf-b48e-4c16-be16-a47143e431e8",
   "metadata": {},
   "outputs": [],
   "source": [
    "list1 = ['baidu', 'sxt', 'qq', 'taobao']"
   ]
  },
  {
   "cell_type": "code",
   "execution_count": 5,
   "id": "303055fd-2d46-4bad-9279-a3c20aaf1414",
   "metadata": {},
   "outputs": [
    {
     "data": {
      "text/plain": [
       "['sxt', 'qq']"
      ]
     },
     "execution_count": 5,
     "metadata": {},
     "output_type": "execute_result"
    }
   ],
   "source": [
    "# list1 获取内容\n",
    "list1[3]\n",
    "\n",
    "# list1 一部分的内容， list[开始的值， 结束的值（不包含）]\n",
    "list1[1:3]"
   ]
  },
  {
   "cell_type": "code",
   "execution_count": 6,
   "id": "d7c3661a-daf8-447f-ae7d-72b36c3a3492",
   "metadata": {},
   "outputs": [
    {
     "data": {
      "text/plain": [
       "['baidu', 'laochen', 'qq', 'taobao']"
      ]
     },
     "execution_count": 6,
     "metadata": {},
     "output_type": "execute_result"
    }
   ],
   "source": [
    "list1[1] = 'laochen'\n",
    "list1"
   ]
  },
  {
   "cell_type": "code",
   "execution_count": 7,
   "id": "d0afd44d-583b-476b-9a72-622fabaed9d0",
   "metadata": {},
   "outputs": [
    {
     "data": {
      "text/plain": [
       "['baidu', 'qq', 'taobao']"
      ]
     },
     "execution_count": 7,
     "metadata": {},
     "output_type": "execute_result"
    }
   ],
   "source": [
    "# 删除列表操作\n",
    "del list1[1]\n",
    "list1"
   ]
  },
  {
   "cell_type": "code",
   "execution_count": 8,
   "id": "89e9841e-b9cc-42ff-8743-28cac1bfecc3",
   "metadata": {},
   "outputs": [
    {
     "data": {
      "text/plain": [
       "3"
      ]
     },
     "execution_count": 8,
     "metadata": {},
     "output_type": "execute_result"
    }
   ],
   "source": [
    "# 获取列表的长度\n",
    "len(list1)"
   ]
  },
  {
   "cell_type": "code",
   "execution_count": 9,
   "id": "fce4b6ee-6598-422f-b805-f3993f4fbe0e",
   "metadata": {},
   "outputs": [
    {
     "data": {
      "text/plain": [
       "[1, 2, 3, 4, 5, 6]"
      ]
     },
     "execution_count": 9,
     "metadata": {},
     "output_type": "execute_result"
    }
   ],
   "source": [
    "# 使用加号可以组合列表\n",
    "list1 = [1, 2, 3]\n",
    "list2 = [4, 5, 6]\n",
    "list3 = list1 + list2\n",
    "list3"
   ]
  },
  {
   "cell_type": "code",
   "execution_count": 11,
   "id": "b4ee14c3-8af1-49d3-bef7-d52db8bcbd88",
   "metadata": {},
   "outputs": [
    {
     "data": {
      "text/plain": [
       "['sorry',\n",
       " 'sorry',\n",
       " 'sorry',\n",
       " 'sorry',\n",
       " 'sorry',\n",
       " 'sorry',\n",
       " 'sorry',\n",
       " 'sorry',\n",
       " 'sorry',\n",
       " 'sorry']"
      ]
     },
     "execution_count": 11,
     "metadata": {},
     "output_type": "execute_result"
    }
   ],
   "source": [
    "# 通过*，可以使得生成重复列表\n",
    "list1 = ['sorry'] * 10\n",
    "list1"
   ]
  },
  {
   "cell_type": "code",
   "execution_count": 13,
   "id": "b4150f62-ab73-41e7-b1d5-9e2e4751c81a",
   "metadata": {},
   "outputs": [
    {
     "data": {
      "text/plain": [
       "True"
      ]
     },
     "execution_count": 13,
     "metadata": {},
     "output_type": "execute_result"
    }
   ],
   "source": [
    "# 通过 In 判断内容是否在列表中\n",
    "stuList = ['吴玉峰', '冯科翔', '李树永']\n",
    "result = '吴玉峰' in stuList\n",
    "result"
   ]
  },
  {
   "cell_type": "markdown",
   "id": "cd284ad5-7325-4d9b-aae6-4f0a1289f5b3",
   "metadata": {},
   "source": [
    "### 列表的截取和拼接"
   ]
  },
  {
   "cell_type": "code",
   "execution_count": 4,
   "id": "310bb56c-a6a9-4f27-8029-ac1afeff0cfe",
   "metadata": {},
   "outputs": [],
   "source": [
    "list1 = [0, 1, 2, 3, 4, 5, 6, 7, 8, 9]"
   ]
  },
  {
   "cell_type": "code",
   "execution_count": 3,
   "id": "54296290-942c-4300-b7e3-58d36e360432",
   "metadata": {},
   "outputs": [
    {
     "data": {
      "text/plain": [
       "7"
      ]
     },
     "execution_count": 3,
     "metadata": {},
     "output_type": "execute_result"
    }
   ],
   "source": [
    "# 通过负数获取倒数第几个\n",
    "list1[-3]"
   ]
  },
  {
   "cell_type": "code",
   "execution_count": 18,
   "id": "bb6ae3b2-87f3-41ff-8028-cc8f93071421",
   "metadata": {},
   "outputs": [
    {
     "data": {
      "text/plain": [
       "[3, 4, 5, 6, 7, 8, 9]"
      ]
     },
     "execution_count": 18,
     "metadata": {},
     "output_type": "execute_result"
    }
   ],
   "source": [
    "# 通过 : 可以设置，截取的位置，起始位置：结束位置（不包含在内）\n",
    "\n",
    "# 从索引3的位置一直到最后\n",
    "list1[3:]"
   ]
  },
  {
   "cell_type": "code",
   "execution_count": 19,
   "id": "98306995-22f3-4a34-865c-e47622224fdf",
   "metadata": {},
   "outputs": [
    {
     "data": {
      "text/plain": [
       "[3, 4, 5, 6]"
      ]
     },
     "execution_count": 19,
     "metadata": {},
     "output_type": "execute_result"
    }
   ],
   "source": [
    "# 从3到7的位置截取下来，不包含7\n",
    "list1[3:7]"
   ]
  },
  {
   "cell_type": "code",
   "execution_count": 20,
   "id": "ddde223d-a449-4454-86ad-1781fc2e68f8",
   "metadata": {},
   "outputs": [
    {
     "data": {
      "text/plain": [
       "[3, 4, 5, 6, 7]"
      ]
     },
     "execution_count": 20,
     "metadata": {},
     "output_type": "execute_result"
    }
   ],
   "source": [
    "# 从3到倒数第二个截取下来，不包含倒数第二个\n",
    "list1[3:-2]"
   ]
  },
  {
   "cell_type": "code",
   "execution_count": 5,
   "id": "2fa093dd-6370-4d69-8627-6ba39abcc1ea",
   "metadata": {},
   "outputs": [
    {
     "data": {
      "text/plain": [
       "[0, 1, 2, 3, 4, 5, 6, 7]"
      ]
     },
     "execution_count": 5,
     "metadata": {},
     "output_type": "execute_result"
    }
   ],
   "source": [
    "# 如果是从开始的位置开始，可以将0省略\n",
    "list1[:-2]"
   ]
  },
  {
   "cell_type": "code",
   "execution_count": 6,
   "id": "368d00db-da6c-45ad-8e26-09d84ed3f828",
   "metadata": {},
   "outputs": [
    {
     "data": {
      "text/plain": [
       "[0, 1, 2, 3, 4, 5, 6, 7, 8, 9]"
      ]
     },
     "execution_count": 6,
     "metadata": {},
     "output_type": "execute_result"
    }
   ],
   "source": [
    "list2 = list1[:]\n",
    "list2"
   ]
  },
  {
   "cell_type": "code",
   "execution_count": 7,
   "id": "d7dcd4ca-8240-471c-8465-1a6fb230eab2",
   "metadata": {},
   "outputs": [
    {
     "data": {
      "text/plain": [
       "True"
      ]
     },
     "execution_count": 7,
     "metadata": {},
     "output_type": "execute_result"
    }
   ],
   "source": [
    "list1 == list2"
   ]
  },
  {
   "cell_type": "code",
   "execution_count": 8,
   "id": "c35ec573-b38a-45d2-b8be-d75f1d889419",
   "metadata": {},
   "outputs": [
    {
     "data": {
      "text/plain": [
       "9"
      ]
     },
     "execution_count": 8,
     "metadata": {},
     "output_type": "execute_result"
    }
   ],
   "source": [
    "# 获取列表中的最大值\n",
    "max(list1)"
   ]
  },
  {
   "cell_type": "code",
   "execution_count": 9,
   "id": "7d280f07-5473-46e5-9ee6-7e8b3d8c27c0",
   "metadata": {},
   "outputs": [
    {
     "data": {
      "text/plain": [
       "0"
      ]
     },
     "execution_count": 9,
     "metadata": {},
     "output_type": "execute_result"
    }
   ],
   "source": [
    "# 获取列表中的最小值\n",
    "min(list1)"
   ]
  },
  {
   "cell_type": "code",
   "execution_count": 11,
   "id": "2bb6dfeb-7d2a-46b6-8855-f7bfa719cefe",
   "metadata": {},
   "outputs": [
    {
     "data": {
      "text/plain": [
       "[0, 1, 2, 3, 4, 5, 6, 7, 8, 9, 10, 10]"
      ]
     },
     "execution_count": 11,
     "metadata": {},
     "output_type": "execute_result"
    }
   ],
   "source": [
    "# 添加元素\n",
    "list1.append(10)\n",
    "list1"
   ]
  },
  {
   "cell_type": "code",
   "execution_count": 13,
   "id": "5eb6fc4a-a60e-4d88-bf19-19f9d2eedc5f",
   "metadata": {},
   "outputs": [
    {
     "data": {
      "text/plain": [
       "3"
      ]
     },
     "execution_count": 13,
     "metadata": {},
     "output_type": "execute_result"
    }
   ],
   "source": [
    "# 计算某个内容在列表中出现的次数\n",
    "list3 = ['吴玉峰', '冯科翔', '李树永', '吴玉峰', '冯科翔', '吴玉峰', '冯科翔']\n",
    "list3.count('吴玉峰')"
   ]
  },
  {
   "cell_type": "code",
   "execution_count": 14,
   "id": "4058f62c-53fb-4c36-8ea9-2d33f8bdf51f",
   "metadata": {},
   "outputs": [
    {
     "data": {
      "text/plain": [
       "0"
      ]
     },
     "execution_count": 14,
     "metadata": {},
     "output_type": "execute_result"
    }
   ],
   "source": [
    "# 查找某个内容，第一次出现在列表中的位置\n",
    "list3.index('吴玉峰')"
   ]
  },
  {
   "cell_type": "code",
   "execution_count": 15,
   "id": "68525d4e-36f5-4e4d-856e-f0a8a7d15f24",
   "metadata": {},
   "outputs": [
    {
     "data": {
      "text/plain": [
       "[0, 1, 2, 3, '吴玉峰', 4, 5, 6, 7, 8, 9, 10, 10]"
      ]
     },
     "execution_count": 15,
     "metadata": {},
     "output_type": "execute_result"
    }
   ],
   "source": [
    "# 在某个位置插入内容\n",
    "list1.insert(4, '吴玉峰')\n",
    "list1"
   ]
  },
  {
   "cell_type": "markdown",
   "id": "690d3253-8339-48a5-9194-91d505687a6f",
   "metadata": {},
   "source": [
    "## 元祖\n",
    "\n",
    "与列表类似，区别就是元祖的元素是不能修改的。"
   ]
  },
  {
   "cell_type": "code",
   "execution_count": 16,
   "id": "4a36d2d2-8f26-42d4-b279-5c423812df32",
   "metadata": {},
   "outputs": [
    {
     "data": {
      "text/plain": [
       "'qq'"
      ]
     },
     "execution_count": 16,
     "metadata": {},
     "output_type": "execute_result"
    }
   ],
   "source": [
    "tup1 = ('qq', 'taobao', 'baidu', 'didi')\n",
    "tup1[0]"
   ]
  },
  {
   "cell_type": "code",
   "execution_count": 17,
   "id": "6c0a256c-4d6f-42d9-8f23-43c9ba8beb1c",
   "metadata": {},
   "outputs": [
    {
     "data": {
      "text/plain": [
       "('a', 'b', 'c')"
      ]
     },
     "execution_count": 17,
     "metadata": {},
     "output_type": "execute_result"
    }
   ],
   "source": [
    "tup2 = \"a\", \"b\", \"c\"\n",
    "tup2"
   ]
  },
  {
   "cell_type": "code",
   "execution_count": 18,
   "id": "dc081f3e-7014-4a90-a72a-15a3e36c17fe",
   "metadata": {},
   "outputs": [],
   "source": [
    "tup3 = ()"
   ]
  },
  {
   "cell_type": "code",
   "execution_count": 19,
   "id": "5358da8b-04fc-45f3-9938-cb835db93f1f",
   "metadata": {},
   "outputs": [
    {
     "data": {
      "text/plain": [
       "tuple"
      ]
     },
     "execution_count": 19,
     "metadata": {},
     "output_type": "execute_result"
    }
   ],
   "source": [
    "type(tup3)"
   ]
  },
  {
   "cell_type": "code",
   "execution_count": 21,
   "id": "202a4cd4-2236-48a2-b691-de93fc98347c",
   "metadata": {},
   "outputs": [
    {
     "data": {
      "text/plain": [
       "('a',)"
      ]
     },
     "execution_count": 21,
     "metadata": {},
     "output_type": "execute_result"
    }
   ],
   "source": [
    "# 元祖如果只有1个元素，那么需要这么写。\n",
    "tup4 = (\"a\",)\n",
    "tup4"
   ]
  },
  {
   "cell_type": "code",
   "execution_count": 23,
   "id": "adae6f17-2d53-4c3a-b0a5-3348783225e3",
   "metadata": {},
   "outputs": [
    {
     "data": {
      "text/plain": [
       "('qq', 'taobao', 'baidu', 'didi', 'a', 'b', 'c')"
      ]
     },
     "execution_count": 23,
     "metadata": {},
     "output_type": "execute_result"
    }
   ],
   "source": [
    "#元祖的合并\n",
    "\n",
    "tup1 = ('qq', 'taobao', 'baidu', 'didi')\n",
    "tup2 = ('a', 'b', 'c')\n",
    "tup3 = tup1 + tup2\n",
    "tup3"
   ]
  },
  {
   "cell_type": "code",
   "execution_count": 27,
   "id": "81683d23-37d6-48a3-9144-320c1f9ece85",
   "metadata": {},
   "outputs": [],
   "source": [
    "# 元祖的删除\n",
    "del tup3\n",
    "tup3"
   ]
  },
  {
   "cell_type": "code",
   "execution_count": 28,
   "id": "01530fd1-bf48-4e57-b0f2-b4e67faede87",
   "metadata": {},
   "outputs": [
    {
     "data": {
      "text/plain": [
       "4"
      ]
     },
     "execution_count": 28,
     "metadata": {},
     "output_type": "execute_result"
    }
   ],
   "source": [
    "# 获取元祖的长度\n",
    "len(tup1)"
   ]
  },
  {
   "cell_type": "code",
   "execution_count": 30,
   "id": "c054b889-069d-49fe-bbe7-a305b6b36d32",
   "metadata": {},
   "outputs": [
    {
     "data": {
      "text/plain": [
       "('hello',\n",
       " 'hello',\n",
       " 'hello',\n",
       " 'hello',\n",
       " 'hello',\n",
       " 'hello',\n",
       " 'hello',\n",
       " 'hello',\n",
       " 'hello',\n",
       " 'hello')"
      ]
     },
     "execution_count": 30,
     "metadata": {},
     "output_type": "execute_result"
    }
   ],
   "source": [
    "('hello',) * 10"
   ]
  },
  {
   "cell_type": "code",
   "execution_count": 31,
   "id": "9d66c4b6-f115-48a2-aaf0-01a21729fe93",
   "metadata": {},
   "outputs": [
    {
     "data": {
      "text/plain": [
       "True"
      ]
     },
     "execution_count": 31,
     "metadata": {},
     "output_type": "execute_result"
    }
   ],
   "source": [
    "'qq' in tup1"
   ]
  },
  {
   "cell_type": "code",
   "execution_count": 32,
   "id": "3a49b3f8-efda-4446-8a6a-26479ef65b9a",
   "metadata": {},
   "outputs": [
    {
     "data": {
      "text/plain": [
       "False"
      ]
     },
     "execution_count": 32,
     "metadata": {},
     "output_type": "execute_result"
    }
   ],
   "source": [
    "'laochen' in tup1"
   ]
  },
  {
   "cell_type": "code",
   "execution_count": 34,
   "id": "0499928a-cd93-4de6-acc7-9dc84cde0004",
   "metadata": {},
   "outputs": [],
   "source": [
    "tup1 = (0, 1, 2, 3, 4, 5, 6, 7, 8, 9)"
   ]
  },
  {
   "cell_type": "code",
   "execution_count": 35,
   "id": "8c20170e-28f0-4700-959f-b1fb1fed453a",
   "metadata": {},
   "outputs": [
    {
     "data": {
      "text/plain": [
       "(3, 4, 5, 6)"
      ]
     },
     "execution_count": 35,
     "metadata": {},
     "output_type": "execute_result"
    }
   ],
   "source": [
    "tup1[3:7]"
   ]
  },
  {
   "cell_type": "code",
   "execution_count": 37,
   "id": "822eb920-2bcd-4782-aa45-daf00bbded7e",
   "metadata": {},
   "outputs": [
    {
     "data": {
      "text/plain": [
       "(0, 1, 2, 3, 4, 5, 6)"
      ]
     },
     "execution_count": 37,
     "metadata": {},
     "output_type": "execute_result"
    }
   ],
   "source": [
    "tup1[:7]"
   ]
  },
  {
   "cell_type": "code",
   "execution_count": 36,
   "id": "761470d6-8fad-4cb4-a2b1-04b85417142c",
   "metadata": {},
   "outputs": [
    {
     "data": {
      "text/plain": [
       "(3, 4, 5, 6, 7, 8, 9)"
      ]
     },
     "execution_count": 36,
     "metadata": {},
     "output_type": "execute_result"
    }
   ],
   "source": [
    "tup1[3:]"
   ]
  },
  {
   "cell_type": "code",
   "execution_count": 38,
   "id": "dd953315-95c9-4388-a535-3d633187eb11",
   "metadata": {},
   "outputs": [
    {
     "data": {
      "text/plain": [
       "(3, 4, 5, 6, 7, 8)"
      ]
     },
     "execution_count": 38,
     "metadata": {},
     "output_type": "execute_result"
    }
   ],
   "source": [
    "tup1[3:-1]"
   ]
  },
  {
   "cell_type": "markdown",
   "id": "2a7be4e6-1ba9-472d-9e7b-5c646e407a4d",
   "metadata": {},
   "source": [
    "## 字典\n",
    "\n",
    "以键值对（key: value）的形式可以存储任意对象"
   ]
  },
  {
   "cell_type": "code",
   "execution_count": 41,
   "id": "c0f61cad-cc33-4554-ae47-b00cf4cde773",
   "metadata": {},
   "outputs": [
    {
     "data": {
      "text/plain": [
       "{'name': '小明', 'age': 16}"
      ]
     },
     "execution_count": 41,
     "metadata": {},
     "output_type": "execute_result"
    }
   ],
   "source": [
    "stu = {\"name\": \"小明\", \"age\": 16}\n",
    "stu"
   ]
  },
  {
   "cell_type": "code",
   "execution_count": 42,
   "id": "b9756f1c-63d2-461f-8c04-56ff81e21541",
   "metadata": {},
   "outputs": [
    {
     "data": {
      "text/plain": [
       "'小明'"
      ]
     },
     "execution_count": 42,
     "metadata": {},
     "output_type": "execute_result"
    }
   ],
   "source": [
    "# 字典的访问形式\n",
    "stu['name']"
   ]
  },
  {
   "cell_type": "code",
   "execution_count": 43,
   "id": "cde1596f-a2db-4964-9aca-11b1f1fb00bc",
   "metadata": {},
   "outputs": [
    {
     "data": {
      "text/plain": [
       "{'name': 'laowang', 'age': 36, 'stu': {'name': '小明', 'age': 16}}"
      ]
     },
     "execution_count": 43,
     "metadata": {},
     "output_type": "execute_result"
    }
   ],
   "source": [
    "tl = {\n",
    "    \"name\": \"laowang\",\n",
    "    \"age\": 36,\n",
    "    \"stu\": stu\n",
    "}\n",
    "tl"
   ]
  },
  {
   "cell_type": "code",
   "execution_count": 44,
   "id": "a30b4775-c1a9-45b2-bd22-728d9d9f9ffb",
   "metadata": {},
   "outputs": [
    {
     "data": {
      "text/plain": [
       "{'name': 'laowang', 'age': 10, 'stu': {'name': '小明', 'age': 16}}"
      ]
     },
     "execution_count": 44,
     "metadata": {},
     "output_type": "execute_result"
    }
   ],
   "source": [
    "# 修改\n",
    "tl['age'] = 10\n",
    "tl"
   ]
  },
  {
   "cell_type": "code",
   "execution_count": 45,
   "id": "669d35e0-bc8f-43c8-b0d8-bfee248608bc",
   "metadata": {},
   "outputs": [
    {
     "data": {
      "text/plain": [
       "{'name': 'laowang', 'stu': {'name': '小明', 'age': 16}}"
      ]
     },
     "execution_count": 45,
     "metadata": {},
     "output_type": "execute_result"
    }
   ],
   "source": [
    "# 删除字典元素\n",
    "del tl['age']\n",
    "tl"
   ]
  },
  {
   "cell_type": "code",
   "execution_count": 46,
   "id": "406dbbd7-5b47-4ace-87ef-7420797508a8",
   "metadata": {},
   "outputs": [
    {
     "data": {
      "text/plain": [
       "{'title': '新闻标题1', 'main': '这是内容'}"
      ]
     },
     "execution_count": 46,
     "metadata": {},
     "output_type": "execute_result"
    }
   ],
   "source": [
    "content = {\n",
    "    \"title\": \"新闻标题\",\n",
    "    \"main\": \"这是内容\",\n",
    "    \"title\": \"新闻标题1\",\n",
    "}\n",
    "content"
   ]
  },
  {
   "cell_type": "code",
   "execution_count": 47,
   "id": "1f2dd07e-a868-475a-b20f-81ab80954137",
   "metadata": {},
   "outputs": [
    {
     "data": {
      "text/plain": [
       "{'title': '新闻标题1', 'main': '这是内容', 1: 'abc'}"
      ]
     },
     "execution_count": 47,
     "metadata": {},
     "output_type": "execute_result"
    }
   ],
   "source": [
    "content[1] = 'abc'\n",
    "content"
   ]
  },
  {
   "cell_type": "code",
   "execution_count": 48,
   "id": "aa39b9ed-08df-4271-b61f-2501492b5606",
   "metadata": {},
   "outputs": [
    {
     "data": {
      "text/plain": [
       "{1: 'laochen'}"
      ]
     },
     "execution_count": 48,
     "metadata": {},
     "output_type": "execute_result"
    }
   ],
   "source": [
    "num = 1\n",
    "d1 = {num: 'laochen'}\n",
    "d1"
   ]
  },
  {
   "cell_type": "markdown",
   "id": "eae0c7bf-3805-471b-9b0a-b91e2625902c",
   "metadata": {},
   "source": [
    "## 字典的内置函数和方法"
   ]
  },
  {
   "cell_type": "code",
   "execution_count": 60,
   "id": "184eb7e4-dd8e-4de4-a0fe-69e4e1951e7d",
   "metadata": {},
   "outputs": [],
   "source": [
    "dict1 = {\n",
    "    \"username\": \"小明\",\n",
    "    \"age\": \"20\",\n",
    "    \"password\": \"123456\",\n",
    "    \"money\": \"1000$\"\n",
    "}"
   ]
  },
  {
   "cell_type": "code",
   "execution_count": 50,
   "id": "5c955ddf-ab74-47b1-99e9-44ae2cd1bcb7",
   "metadata": {},
   "outputs": [
    {
     "data": {
      "text/plain": [
       "3"
      ]
     },
     "execution_count": 50,
     "metadata": {},
     "output_type": "execute_result"
    }
   ],
   "source": [
    "# 计算字典元素的个数，也就是键的个数\n",
    "len(dict1)"
   ]
  },
  {
   "cell_type": "code",
   "execution_count": 51,
   "id": "f2b98140-b51d-4bcd-822c-41b4061a6f47",
   "metadata": {},
   "outputs": [
    {
     "data": {
      "text/plain": [
       "\"{'username': '小明', 'age': '20', 'password': '123456'}\""
      ]
     },
     "execution_count": 51,
     "metadata": {},
     "output_type": "execute_result"
    }
   ],
   "source": [
    "# 将字典转化为字符串\n",
    "str(dict1)"
   ]
  },
  {
   "cell_type": "code",
   "execution_count": 52,
   "id": "048fd200-27d0-47d0-acd1-bc686df16eff",
   "metadata": {},
   "outputs": [
    {
     "data": {
      "text/plain": [
       "dict"
      ]
     },
     "execution_count": 52,
     "metadata": {},
     "output_type": "execute_result"
    }
   ],
   "source": [
    "type(dict1)"
   ]
  },
  {
   "cell_type": "code",
   "execution_count": 53,
   "id": "2e6b67fe-8b9a-4e80-b4cc-6549ee26b6fe",
   "metadata": {},
   "outputs": [
    {
     "data": {
      "text/plain": [
       "'小红'"
      ]
     },
     "execution_count": 53,
     "metadata": {},
     "output_type": "execute_result"
    }
   ],
   "source": [
    "# 字典1和字典2是同一个\n",
    "dict2 = dict1\n",
    "dict2[\"username\"] = \"小红\"\n",
    "dict1[\"username\"]"
   ]
  },
  {
   "cell_type": "code",
   "execution_count": 56,
   "id": "d12aa233-d096-4111-a85e-14f977ec1dc5",
   "metadata": {},
   "outputs": [
    {
     "data": {
      "text/plain": [
       "'小红'"
      ]
     },
     "execution_count": 56,
     "metadata": {},
     "output_type": "execute_result"
    }
   ],
   "source": [
    "# 复制字典\n",
    "dict3 = dict1.copy()\n",
    "dict3['username'] = \"小黑\"\n",
    "dict1[\"username\"]"
   ]
  },
  {
   "cell_type": "code",
   "execution_count": 61,
   "id": "87f8bbd5-f444-4b4f-b415-3f4a3f69e5ff",
   "metadata": {},
   "outputs": [
    {
     "data": {
      "text/plain": [
       "'1000$'"
      ]
     },
     "execution_count": 61,
     "metadata": {},
     "output_type": "execute_result"
    }
   ],
   "source": [
    "# 通过 get 可以获取键值\n",
    "dict1.get('money', '100$')"
   ]
  },
  {
   "cell_type": "code",
   "execution_count": 62,
   "id": "fbd2bd90-850f-4101-b60d-2b2b0b427e03",
   "metadata": {},
   "outputs": [
    {
     "data": {
      "text/plain": [
       "True"
      ]
     },
     "execution_count": 62,
     "metadata": {},
     "output_type": "execute_result"
    }
   ],
   "source": [
    "# 判断某个键是否在字典里\n",
    "'money' in dict1"
   ]
  },
  {
   "cell_type": "code",
   "execution_count": 63,
   "id": "d26bbf73-63fb-42ed-bd1d-ea3a1db7e12f",
   "metadata": {},
   "outputs": [
    {
     "data": {
      "text/plain": [
       "dict_items([('username', '小明'), ('age', '20'), ('password', '123456'), ('money', '1000$')])"
      ]
     },
     "execution_count": 63,
     "metadata": {},
     "output_type": "execute_result"
    }
   ],
   "source": [
    "# 将字典遍历成元祖列表\n",
    "dict1.items()"
   ]
  },
  {
   "cell_type": "code",
   "execution_count": 64,
   "id": "e7100fbf-ca81-4c4f-8c9f-bb38e6dfce04",
   "metadata": {},
   "outputs": [
    {
     "data": {
      "text/plain": [
       "dict_values(['小明', '20', '123456', '1000$'])"
      ]
     },
     "execution_count": 64,
     "metadata": {},
     "output_type": "execute_result"
    }
   ],
   "source": [
    "# 将值转成列表\n",
    "dict1.values()"
   ]
  },
  {
   "cell_type": "code",
   "execution_count": 65,
   "id": "72625eba-3ae1-4f28-81e1-129cd7fcdd73",
   "metadata": {},
   "outputs": [
    {
     "data": {
      "text/plain": [
       "'20'"
      ]
     },
     "execution_count": 65,
     "metadata": {},
     "output_type": "execute_result"
    }
   ],
   "source": [
    "# 删除指定的键值\n",
    "dict1.pop('age')"
   ]
  },
  {
   "cell_type": "code",
   "execution_count": 66,
   "id": "c8e42c1a-a39e-4baa-a207-675affcc9f5b",
   "metadata": {},
   "outputs": [
    {
     "data": {
      "text/plain": [
       "{'username': '小明',\n",
       " 'password': '123456',\n",
       " 'money': '1000$',\n",
       " 'color': '白色',\n",
       " 'size': 'big'}"
      ]
     },
     "execution_count": 66,
     "metadata": {},
     "output_type": "execute_result"
    }
   ],
   "source": [
    "# 将别的字典添加到字典中\n",
    "dict4 = {\n",
    "    \"color\": \"白色\",\n",
    "    \"size\": \"big\"\n",
    "}\n",
    "dict1.update(dict4)\n",
    "dict1"
   ]
  },
  {
   "cell_type": "markdown",
   "id": "34ddf716-345b-4113-b24b-f1b61c0323bf",
   "metadata": {},
   "source": [
    "## 集合（set）\n",
    "\n",
    "* 是一个无序的不重复元素序列\n",
    "* 使用大括号或者set()函数创建集合\n",
    "\n",
    "**注意：创建空集合，不能使用{},只能用set()**"
   ]
  },
  {
   "cell_type": "code",
   "execution_count": 67,
   "id": "17708677-60f1-475e-95ac-290eb5751f1d",
   "metadata": {},
   "outputs": [
    {
     "data": {
      "text/plain": [
       "{'苹果', '雪梨', '香蕉'}"
      ]
     },
     "execution_count": 67,
     "metadata": {},
     "output_type": "execute_result"
    }
   ],
   "source": [
    "# 集合具有去重功能\n",
    "fruits = {\"苹果\", \"雪梨\", \"香蕉\", \"香蕉\"}\n",
    "fruits"
   ]
  },
  {
   "cell_type": "code",
   "execution_count": 68,
   "id": "58b575ce-b542-4de8-ab88-451783e8fa2d",
   "metadata": {},
   "outputs": [
    {
     "data": {
      "text/plain": [
       "True"
      ]
     },
     "execution_count": 68,
     "metadata": {},
     "output_type": "execute_result"
    }
   ],
   "source": [
    "# 判断元素是否在集合中\n",
    "\"苹果\" in fruits"
   ]
  },
  {
   "cell_type": "code",
   "execution_count": 69,
   "id": "ccdc1619-da25-4270-aa17-980aa031eb42",
   "metadata": {},
   "outputs": [
    {
     "data": {
      "text/plain": [
       "{'苹果', '西瓜', '雪梨', '香蕉'}"
      ]
     },
     "execution_count": 69,
     "metadata": {},
     "output_type": "execute_result"
    }
   ],
   "source": [
    "# 添加元素\n",
    "fruits.add(\"西瓜\")\n",
    "fruits"
   ]
  },
  {
   "cell_type": "code",
   "execution_count": 71,
   "id": "1c85cc86-3f87-45e3-bc2a-1c796b10f68d",
   "metadata": {},
   "outputs": [
    {
     "data": {
      "text/plain": [
       "{'芒果', '苹果', '葡萄', '西瓜', '雪梨', '香蕉'}"
      ]
     },
     "execution_count": 71,
     "metadata": {},
     "output_type": "execute_result"
    }
   ],
   "source": [
    "# 更新元素\n",
    "# update 也可以进行内容的添加，但是一般放入列表或者元祖，因为它会自动的拆分放入进来。\n",
    "fruits.update([\"芒果\", \"葡萄\"])\n",
    "fruits"
   ]
  },
  {
   "cell_type": "code",
   "execution_count": 74,
   "id": "4848b67c-8cfd-4bde-bf9d-aeea63f9a43f",
   "metadata": {},
   "outputs": [],
   "source": [
    "# 删除内容, 不能删除不存在的，会报错\n",
    "fruits.remove(\"西瓜\")\n",
    "fruits"
   ]
  },
  {
   "cell_type": "code",
   "execution_count": 75,
   "id": "ab05aefc-7c5c-4373-a46f-90da4ac43c2f",
   "metadata": {},
   "outputs": [
    {
     "data": {
      "text/plain": [
       "{'芒果', '苹果', '葡萄', '雪梨', '香蕉'}"
      ]
     },
     "execution_count": 75,
     "metadata": {},
     "output_type": "execute_result"
    }
   ],
   "source": [
    "# 移除集合元素，且元素不存在时，也不会报错\n",
    "fruits.discard(\"西瓜\")\n",
    "fruits"
   ]
  },
  {
   "cell_type": "code",
   "execution_count": 76,
   "id": "dc5093bf-4a05-4258-9d0e-92cdfac6b413",
   "metadata": {},
   "outputs": [
    {
     "data": {
      "text/plain": [
       "'雪梨'"
      ]
     },
     "execution_count": 76,
     "metadata": {},
     "output_type": "execute_result"
    }
   ],
   "source": [
    "# 随机删除一个集合元素\n",
    "fruits.pop()"
   ]
  },
  {
   "cell_type": "code",
   "execution_count": 77,
   "id": "a6bf9ae0-e7b1-41e4-8866-76dc69b8d90f",
   "metadata": {},
   "outputs": [],
   "source": [
    "fruits2 = {\n",
    "    \"果\",\n",
    "    \"芒\",\n",
    "    \"芒果\",\n",
    "    \"苹果\",\n",
    "    \"葡萄\",\n",
    "    \"西瓜\",\n",
    "    \"雪梨\",\n",
    "    \"香蕉\",\n",
    "}"
   ]
  },
  {
   "cell_type": "code",
   "execution_count": 78,
   "id": "6b03b93c-f38b-41f5-a05e-442624bf0d53",
   "metadata": {},
   "outputs": [],
   "source": [
    "fruits = {\n",
    "    '芒果',\n",
    "    '葡萄',\n",
    "    '雪梨',\n",
    "    '香蕉'\n",
    "}"
   ]
  },
  {
   "cell_type": "code",
   "execution_count": 82,
   "id": "aa2194d5-b534-48c3-a395-9ccff248f687",
   "metadata": {},
   "outputs": [],
   "source": [
    "fruits.add(\"桃子\")"
   ]
  },
  {
   "cell_type": "code",
   "execution_count": 83,
   "id": "4879e490-0138-4516-b79d-437cd77f2ebb",
   "metadata": {},
   "outputs": [
    {
     "data": {
      "text/plain": [
       "{'桃子'}"
      ]
     },
     "execution_count": 83,
     "metadata": {},
     "output_type": "execute_result"
    }
   ],
   "source": [
    "# 将一个集合与另外一个集合比较，将差异部分显示出来\n",
    "fruits.difference(fruits2)"
   ]
  },
  {
   "cell_type": "code",
   "execution_count": 81,
   "id": "9062983b-6b37-4879-aa96-c6d4a0d0e1f1",
   "metadata": {},
   "outputs": [
    {
     "data": {
      "text/plain": [
       "{'果', '芒', '苹果', '西瓜'}"
      ]
     },
     "execution_count": 81,
     "metadata": {},
     "output_type": "execute_result"
    }
   ],
   "source": [
    "fruits2.difference(fruits)"
   ]
  },
  {
   "cell_type": "code",
   "execution_count": 84,
   "id": "75316dce-2908-4143-a393-223dc3bae8a1",
   "metadata": {},
   "outputs": [
    {
     "data": {
      "text/plain": [
       "{'芒果', '葡萄', '雪梨', '香蕉'}"
      ]
     },
     "execution_count": 84,
     "metadata": {},
     "output_type": "execute_result"
    }
   ],
   "source": [
    "# 获取两个集合的交集内容\n",
    "fruits.intersection(fruits2)"
   ]
  },
  {
   "cell_type": "code",
   "execution_count": 85,
   "id": "8da9fdd1-6d8c-4ed0-bf8f-063f702d303a",
   "metadata": {},
   "outputs": [
    {
     "data": {
      "text/plain": [
       "False"
      ]
     },
     "execution_count": 85,
     "metadata": {},
     "output_type": "execute_result"
    }
   ],
   "source": [
    "# 判断两个集合是否没有交集\n",
    "fruits.isdisjoint(fruits2)"
   ]
  },
  {
   "cell_type": "code",
   "execution_count": 86,
   "id": "5793a82f-3bbf-4888-b12f-ffa53492d047",
   "metadata": {},
   "outputs": [
    {
     "data": {
      "text/plain": [
       "{'果', '桃子', '芒', '芒果', '苹果', '葡萄', '西瓜', '雪梨', '香蕉'}"
      ]
     },
     "execution_count": 86,
     "metadata": {},
     "output_type": "execute_result"
    }
   ],
   "source": [
    "# 对两个集合并集\n",
    "fruits.union(fruits2)"
   ]
  },
  {
   "cell_type": "markdown",
   "id": "eabc4f69-e1e1-418f-bd20-c79975d47ff4",
   "metadata": {},
   "source": [
    "## if 语法\n",
    "\n",
    "```\n",
    "if 条件:\n",
    "    条件为真的时候的执行内容\n",
    "elif 条件:\n",
    "    条件范围内执行的内容\n",
    "else:\n",
    "    最终条件判断完后执行的内容\n",
    "```"
   ]
  },
  {
   "cell_type": "code",
   "execution_count": 87,
   "id": "5820ddd1-3b60-446d-86db-6f298ea625de",
   "metadata": {},
   "outputs": [
    {
     "name": "stdout",
     "output_type": "stream",
     "text": [
      "普通人\n"
     ]
    }
   ],
   "source": [
    "state = \"正常\"\n",
    "if state == \"正常\":\n",
    "    print(\"普通人\")\n",
    "elif state == \"发热\":\n",
    "    print(\"疑似人员\")\n",
    "else:\n",
    "    print(\"确诊人员\")"
   ]
  },
  {
   "cell_type": "markdown",
   "id": "dc23c690-56c0-4cf7-b1d6-dbd6fdff36d9",
   "metadata": {},
   "source": [
    "## while 循环\n",
    "\n",
    "```\n",
    "while 判断条件:\n",
    "    执行语句\n",
    "```"
   ]
  },
  {
   "cell_type": "code",
   "execution_count": 89,
   "id": "fb7a1904-8768-4d44-95e8-9e67490c86d4",
   "metadata": {},
   "outputs": [
    {
     "name": "stdout",
     "output_type": "stream",
     "text": [
      "5050\n"
     ]
    }
   ],
   "source": [
    "# 计算从 0 加到 100 的总和\n",
    "n = 100\n",
    "sum = 0\n",
    "counter = 1\n",
    "while counter <= n:\n",
    "    sum = sum + counter\n",
    "    counter += 1\n",
    "print(sum)"
   ]
  },
  {
   "cell_type": "markdown",
   "id": "2d22fdb4-eb6b-4a0a-939f-1e8dcd36a47f",
   "metadata": {},
   "source": [
    "## for循环"
   ]
  },
  {
   "cell_type": "code",
   "execution_count": 91,
   "id": "7002932e-08ef-470a-9ded-3d579ad8ea12",
   "metadata": {},
   "outputs": [
    {
     "name": "stdout",
     "output_type": "stream",
     "text": [
      "苹果\n",
      "雪梨\n",
      "香蕉\n",
      "葡萄\n"
     ]
    }
   ],
   "source": [
    "list1 = [\n",
    "    \"苹果\",\n",
    "    \"雪梨\",\n",
    "    \"香蕉\",\n",
    "    \"葡萄\",\n",
    "]\n",
    "\n",
    "for i in range(len(list1)):\n",
    "    print(list1[i])"
   ]
  },
  {
   "cell_type": "code",
   "execution_count": 93,
   "id": "6a57bf98-ec5e-4bec-ad83-71d58b3fb500",
   "metadata": {},
   "outputs": [
    {
     "name": "stdout",
     "output_type": "stream",
     "text": [
      "('name', 'xiaoming')\n",
      "key:  name\n",
      "value:  xiaoming\n",
      "('color', 'blue')\n",
      "key:  color\n",
      "value:  blue\n",
      "('age', '16')\n",
      "key:  age\n",
      "value:  16\n"
     ]
    }
   ],
   "source": [
    "dict1 = {\"name\": \"xiaoming\", \"color\": \"blue\", \"age\": \"16\"}\n",
    "\n",
    "for i in dict1.items():\n",
    "    print(i)\n",
    "    print(\"key: \", i[0])\n",
    "    print(\"value: \", i[1])"
   ]
  },
  {
   "cell_type": "code",
   "execution_count": 94,
   "id": "fa7a067b-849c-4791-8f59-27e0d1f379df",
   "metadata": {},
   "outputs": [
    {
     "name": "stdout",
     "output_type": "stream",
     "text": [
      "name\n",
      "xiaoming\n",
      "color\n",
      "blue\n",
      "age\n",
      "16\n"
     ]
    }
   ],
   "source": [
    "for (key, value) in dict1.items():\n",
    "    print(key)\n",
    "    print(value)"
   ]
  },
  {
   "cell_type": "code",
   "execution_count": 95,
   "id": "c056275a-8b58-4ee5-8ac3-da7ea64847bc",
   "metadata": {},
   "outputs": [
    {
     "name": "stdout",
     "output_type": "stream",
     "text": [
      "0\n",
      "1\n",
      "2\n",
      "3\n",
      "4\n",
      "6\n",
      "7\n",
      "8\n",
      "9\n"
     ]
    }
   ],
   "source": [
    "# continue 跳出当次的小循环\n",
    "# break 跳出整个循环\n",
    "for i in range(10):\n",
    "    if (i == 5):\n",
    "        continue\n",
    "    print(i)"
   ]
  },
  {
   "cell_type": "code",
   "execution_count": 96,
   "id": "304a2c71-6bc6-4579-904d-f19be76a8d56",
   "metadata": {},
   "outputs": [
    {
     "name": "stdout",
     "output_type": "stream",
     "text": [
      "0\n",
      "1\n",
      "2\n",
      "3\n",
      "4\n"
     ]
    }
   ],
   "source": [
    "for i in range(10):\n",
    "    if (i == 5):\n",
    "        break\n",
    "    print(i)"
   ]
  },
  {
   "cell_type": "code",
   "execution_count": 97,
   "id": "b87d1355-3579-4e3b-a9a0-3e5c3c1abe4f",
   "metadata": {},
   "outputs": [],
   "source": [
    "# pass 空语句，主要是为了保持整个结构的完整性。可以在任何位置写\n",
    "# while \"条件判断\":\n",
    "#     pass"
   ]
  },
  {
   "cell_type": "markdown",
   "id": "56838ce3-edce-4c9b-8211-3541f46d01a5",
   "metadata": {},
   "source": [
    "## 函数\n",
    "\n",
    "```\n",
    "def 函数名称(参数...):\n",
    "    函数执行的内容\n",
    "    return 返回的内容\n",
    "```"
   ]
  },
  {
   "cell_type": "code",
   "execution_count": 98,
   "id": "985998a6-9be5-40e1-a594-ff0f560471a3",
   "metadata": {},
   "outputs": [
    {
     "data": {
      "text/plain": [
       "50"
      ]
     },
     "execution_count": 98,
     "metadata": {},
     "output_type": "execute_result"
    }
   ],
   "source": [
    "# 计算面积的函数\n",
    "def area(width, height):\n",
    "    return width * height\n",
    "\n",
    "area(10, 5)"
   ]
  },
  {
   "cell_type": "code",
   "execution_count": 99,
   "id": "41d460c1-03b5-4b69-8dc7-c49e462e0dea",
   "metadata": {},
   "outputs": [
    {
     "data": {
      "text/plain": [
       "1500"
      ]
     },
     "execution_count": 99,
     "metadata": {},
     "output_type": "execute_result"
    }
   ],
   "source": [
    "# 默认参数\n",
    "def area(width = 50, height = 30):\n",
    "    return width * height\n",
    "\n",
    "area()"
   ]
  },
  {
   "cell_type": "code",
   "execution_count": 100,
   "id": "32c5e4a4-aad8-4e5a-9eb8-1f9fe0a8f4dd",
   "metadata": {},
   "outputs": [
    {
     "name": "stdout",
     "output_type": "stream",
     "text": [
      "name: xiaoming\n",
      "args: (1, 2, 3, 4, 5, 6, 7)\n"
     ]
    }
   ],
   "source": [
    "# 不定参数\n",
    "def abc(name, *args):\n",
    "    print(\"name:\", name)\n",
    "    print(\"args:\", args)\n",
    "\n",
    "abc('xiaoming', 1, 2, 3, 4, 5, 6, 7)"
   ]
  },
  {
   "cell_type": "markdown",
   "id": "4da30984-bc4a-44f1-b180-9982c0becc35",
   "metadata": {},
   "source": [
    "## 匿名参数\n",
    "\n",
    "python 可以使用 lambda 创建匿名函数\n",
    "\n",
    "lambda 封装简单的逻辑进去，因为 lambda 的主体只能定义一个表达式。"
   ]
  },
  {
   "cell_type": "code",
   "execution_count": 104,
   "id": "20d16e5a-489c-4825-9fbb-b84c4a829be6",
   "metadata": {},
   "outputs": [
    {
     "data": {
      "text/plain": [
       "15"
      ]
     },
     "execution_count": 104,
     "metadata": {},
     "output_type": "execute_result"
    }
   ],
   "source": [
    "sum = lambda a,b:a+b\n",
    "sum(10, 5)"
   ]
  },
  {
   "cell_type": "code",
   "execution_count": 105,
   "id": "ebbc4f5e-a29e-41be-ab75-82e3ec3c5eae",
   "metadata": {},
   "outputs": [
    {
     "data": {
      "text/plain": [
       "50"
      ]
     },
     "execution_count": 105,
     "metadata": {},
     "output_type": "execute_result"
    }
   ],
   "source": [
    "def abc(a,b):\n",
    "    return a*b\n",
    "area1 = abc\n",
    "area1(10, 5)"
   ]
  },
  {
   "cell_type": "code",
   "execution_count": 106,
   "id": "a870a1a4-dddc-4f9e-9ee3-fb4ac0ac49f8",
   "metadata": {},
   "outputs": [
    {
     "name": "stdout",
     "output_type": "stream",
     "text": [
      "fn函数被调用了\n",
      "None\n"
     ]
    }
   ],
   "source": [
    "# 如果函数没有返回值，那么返回的内容就是None\n",
    "def fn():\n",
    "    print(\"fn函数被调用了\")\n",
    "a = fn()\n",
    "print(a)"
   ]
  },
  {
   "cell_type": "markdown",
   "id": "d4d175cc-506f-4dec-9aa9-cf04aaabbc2b",
   "metadata": {},
   "source": [
    "## 面向对象\n",
    "\n",
    "### 面向对象的关键词\n",
    "* 类 用来描述具有相同属性和方法的一类事物\n",
    "* 方法 类中定义的函数，描述这一类事物的功能和方法\n",
    "* 类 变量\n",
    "* 实例 变量\n",
    "* 继承\n",
    "* 实例化 创建一个类的实例，类的具体对象"
   ]
  },
  {
   "cell_type": "code",
   "execution_count": 108,
   "id": "a1cdc9b6-f3f9-4fd7-805c-9e8bd41e68fd",
   "metadata": {},
   "outputs": [
    {
     "name": "stdout",
     "output_type": "stream",
     "text": [
      "小明\n",
      "会学习\n",
      "s1.name: 小黑\n",
      "Student.name: 小黑\n",
      "s1.name: 小红\n"
     ]
    }
   ],
   "source": [
    "class Student:\n",
    "    name = \"小明\"\n",
    "    banji = \"三年级二班\"\n",
    "    def learn(self):\n",
    "        return \"会学习\"\n",
    "\n",
    "# 实例化类\n",
    "s1 = Student()\n",
    "print(s1.name)\n",
    "print(s1.learn())\n",
    "\n",
    "Student.name = \"小黑\"\n",
    "print(\"s1.name:\", s1.name)\n",
    "s1.name = \"小红\"\n",
    "print(\"Student.name:\", Student.name)\n",
    "print(\"s1.name:\", s1.name)\n"
   ]
  },
  {
   "cell_type": "markdown",
   "id": "1450c815-bde2-43fa-b4ac-2cc82b520261",
   "metadata": {},
   "source": [
    "## 构造函数\n",
    "\n",
    "```\n",
    "__init__()\n",
    "```"
   ]
  },
  {
   "cell_type": "code",
   "execution_count": 114,
   "id": "d60ffcb0-7ee8-48e2-8c5c-2fac8feedf5a",
   "metadata": {},
   "outputs": [
    {
     "name": "stdout",
     "output_type": "stream",
     "text": [
      "<__main__.Teacher object at 0x108ae4fe0>\n",
      "<class '__main__.Teacher'>\n",
      "150\n"
     ]
    },
    {
     "data": {
      "text/plain": [
       "150"
      ]
     },
     "execution_count": 114,
     "metadata": {},
     "output_type": "execute_result"
    }
   ],
   "source": [
    "class Teacher:\n",
    "    def __init__(self, name, age, weight):\n",
    "        # self 指向实例化对象\n",
    "        print(self)\n",
    "        # self.__class__ 指向本身的类，也就是 Teacher\n",
    "        print(self.__class__)\n",
    "        self.name = name\n",
    "        self.age = age\n",
    "        \n",
    "        # 私有属性\n",
    "        self.__weight = weight\n",
    "        print(self.__weight)\n",
    "\n",
    "t1 = Teacher('laowang', 30, 150)\n",
    "t1.name\n",
    "t1._Teacher__weight"
   ]
  },
  {
   "cell_type": "code",
   "execution_count": 113,
   "id": "630e4ae7-1ef5-473a-ba5b-e035f88fb4f4",
   "metadata": {},
   "outputs": [
    {
     "data": {
      "text/plain": [
       "['_Teacher__weight',\n",
       " '__class__',\n",
       " '__delattr__',\n",
       " '__dict__',\n",
       " '__dir__',\n",
       " '__doc__',\n",
       " '__eq__',\n",
       " '__format__',\n",
       " '__ge__',\n",
       " '__getattribute__',\n",
       " '__getstate__',\n",
       " '__gt__',\n",
       " '__hash__',\n",
       " '__init__',\n",
       " '__init_subclass__',\n",
       " '__le__',\n",
       " '__lt__',\n",
       " '__module__',\n",
       " '__ne__',\n",
       " '__new__',\n",
       " '__reduce__',\n",
       " '__reduce_ex__',\n",
       " '__repr__',\n",
       " '__setattr__',\n",
       " '__sizeof__',\n",
       " '__str__',\n",
       " '__subclasshook__',\n",
       " '__weakref__',\n",
       " 'age',\n",
       " 'name']"
      ]
     },
     "execution_count": 113,
     "metadata": {},
     "output_type": "execute_result"
    }
   ],
   "source": [
    "dir(t1)"
   ]
  },
  {
   "cell_type": "markdown",
   "id": "1a112735-005d-4cb3-b351-eb99d3aadb8b",
   "metadata": {},
   "source": [
    "## 继承"
   ]
  },
  {
   "cell_type": "code",
   "execution_count": 120,
   "id": "8cb83001-7ca7-41e1-8a93-ac20c6e62537",
   "metadata": {},
   "outputs": [
    {
     "name": "stdout",
     "output_type": "stream",
     "text": [
      "yayaxueyu\n",
      "能发出声音\n"
     ]
    }
   ],
   "source": [
    "class People:\n",
    "    # 定义基本属性\n",
    "    name = \"人类\"\n",
    "\n",
    "    def __init__(self, username, age, weight):\n",
    "        self.username = username\n",
    "        self.age = age\n",
    "        self.weight = weight\n",
    "\n",
    "    def speak(self):\n",
    "        print('yayaxueyu')\n",
    "\n",
    "\n",
    "class Animal:\n",
    "    run = \"奔跑\"\n",
    "\n",
    "    def sound(self):\n",
    "        print(\"能发出声音\")\n",
    "\n",
    "\n",
    "# 括号里就是继承\n",
    "class Student(People, Animal):\n",
    "    def __init__(self, username, grade, age = 16, weight = 120):\n",
    "        self.username = username\n",
    "        People.__init__(self, username, age, weight)\n",
    "\n",
    "    def learn(self):\n",
    "        print(\"我会学习，我读了\" + self.grade + \"年级\")\n",
    "\n",
    "\n",
    "s1 = Student('小红', 3, 13, 100)\n",
    "s1.username\n",
    "s1.age\n",
    "s1.speak()\n",
    "s1.run\n",
    "s1.sound()"
   ]
  },
  {
   "cell_type": "code",
   "execution_count": 121,
   "id": "206e0378-83f9-4c8d-ae1b-8165a8089915",
   "metadata": {},
   "outputs": [
    {
     "data": {
      "text/plain": [
       "['__class__',\n",
       " '__delattr__',\n",
       " '__dict__',\n",
       " '__dir__',\n",
       " '__doc__',\n",
       " '__eq__',\n",
       " '__format__',\n",
       " '__ge__',\n",
       " '__getattribute__',\n",
       " '__getstate__',\n",
       " '__gt__',\n",
       " '__hash__',\n",
       " '__init__',\n",
       " '__init_subclass__',\n",
       " '__le__',\n",
       " '__lt__',\n",
       " '__module__',\n",
       " '__ne__',\n",
       " '__new__',\n",
       " '__reduce__',\n",
       " '__reduce_ex__',\n",
       " '__repr__',\n",
       " '__setattr__',\n",
       " '__sizeof__',\n",
       " '__str__',\n",
       " '__subclasshook__',\n",
       " '__weakref__',\n",
       " 'age',\n",
       " 'learn',\n",
       " 'name',\n",
       " 'run',\n",
       " 'sound',\n",
       " 'speak',\n",
       " 'username',\n",
       " 'weight']"
      ]
     },
     "execution_count": 121,
     "metadata": {},
     "output_type": "execute_result"
    }
   ],
   "source": [
    "dir(s1)"
   ]
  },
  {
   "cell_type": "markdown",
   "id": "caa02991-339d-4b00-9ae5-eb896173eb8d",
   "metadata": {},
   "source": [
    "## 迭代器\n",
    "\n",
    "迭代器可以记住遍历位置的对象。\n",
    "\n",
    "迭代器的两个基本方法：iter()、next()"
   ]
  },
  {
   "cell_type": "code",
   "execution_count": 122,
   "id": "eb1c0273-0a3b-4cce-8a86-ee2961541a09",
   "metadata": {},
   "outputs": [],
   "source": [
    "list1 = [\"小花\", \"小红\", \"小黑\", \"小明\"]\n",
    "it1 = iter(list1)"
   ]
  },
  {
   "cell_type": "code",
   "execution_count": 123,
   "id": "27ebcef4-ab96-4734-848e-d8414cff77fc",
   "metadata": {},
   "outputs": [
    {
     "data": {
      "text/plain": [
       "'小花'"
      ]
     },
     "execution_count": 123,
     "metadata": {},
     "output_type": "execute_result"
    }
   ],
   "source": [
    "next(it1)"
   ]
  },
  {
   "cell_type": "code",
   "execution_count": 124,
   "id": "721cf49b-186f-4687-b84b-97dcbf302a4a",
   "metadata": {},
   "outputs": [
    {
     "data": {
      "text/plain": [
       "'小红'"
      ]
     },
     "execution_count": 124,
     "metadata": {},
     "output_type": "execute_result"
    }
   ],
   "source": [
    "next(it1)"
   ]
  },
  {
   "cell_type": "code",
   "execution_count": 125,
   "id": "bf163fe4-db4e-4cb4-8050-7d5440dd85d8",
   "metadata": {},
   "outputs": [
    {
     "data": {
      "text/plain": [
       "'小黑'"
      ]
     },
     "execution_count": 125,
     "metadata": {},
     "output_type": "execute_result"
    }
   ],
   "source": [
    "next(it1)"
   ]
  },
  {
   "cell_type": "code",
   "execution_count": 126,
   "id": "da8f77f9-245d-49a3-82df-05787229fa47",
   "metadata": {},
   "outputs": [
    {
     "data": {
      "text/plain": [
       "'小明'"
      ]
     },
     "execution_count": 126,
     "metadata": {},
     "output_type": "execute_result"
    }
   ],
   "source": [
    "next(it1)"
   ]
  },
  {
   "cell_type": "code",
   "execution_count": 128,
   "id": "717008b1-850b-4eaa-b3c8-241cb18d46d9",
   "metadata": {},
   "outputs": [
    {
     "name": "stdout",
     "output_type": "stream",
     "text": [
      "小花\n",
      "小红\n",
      "小黑\n",
      "小明\n"
     ]
    }
   ],
   "source": [
    "it1 = iter(list1)\n",
    "for i in it1:\n",
    "    print(i)"
   ]
  },
  {
   "cell_type": "code",
   "execution_count": 130,
   "id": "f10d8f45-c2f3-469d-adfe-afcf786c0b99",
   "metadata": {},
   "outputs": [
    {
     "name": "stdout",
     "output_type": "stream",
     "text": [
      "1\n",
      "2\n",
      "3\n",
      "4\n",
      "5\n",
      "6\n",
      "7\n",
      "8\n",
      "9\n",
      "10\n",
      "11\n",
      "12\n",
      "13\n",
      "14\n",
      "15\n",
      "16\n",
      "17\n",
      "18\n",
      "19\n",
      "20\n"
     ]
    }
   ],
   "source": [
    "class MyNum:\n",
    "    def __iter__(self):\n",
    "        self.a = 0\n",
    "        return self\n",
    "\n",
    "    def __next__(self):\n",
    "        self.a += 1\n",
    "        if self.a > 20:\n",
    "            # StopIteration 结束迭代，抛出的异常\n",
    "            # raise 抛出\n",
    "            raise StopIteration\n",
    "        else:\n",
    "            return self.a\n",
    "\n",
    "\n",
    "mnum = MyNum()\n",
    "it1 = iter(mnum)\n",
    "\n",
    "for i in it1:\n",
    "    print(i)"
   ]
  },
  {
   "cell_type": "markdown",
   "id": "2d812d27-c0f8-4758-b4df-1a3ed60c46d7",
   "metadata": {},
   "source": [
    "## 生成器函数\n",
    "\n",
    "生成器函数可以生成迭代器\n",
    "\n",
    "函数中有 yield 关键字就是生成器函数"
   ]
  },
  {
   "cell_type": "code",
   "execution_count": 135,
   "id": "1c4e513e-c6ab-4028-ac15-33424f30daa0",
   "metadata": {},
   "outputs": [
    {
     "name": "stdout",
     "output_type": "stream",
     "text": [
      "0\n",
      "1\n",
      "1\n",
      "2\n",
      "3\n",
      "5\n",
      "8\n",
      "13\n",
      "21\n",
      "34\n"
     ]
    }
   ],
   "source": [
    "# 斐波那契数列： 每一项都等于前两项之和\n",
    "# 0 1 1 2 3 5 8...\n",
    "def makeNum(n):\n",
    "    a = 0\n",
    "    b = 1\n",
    "    counter = 0\n",
    "\n",
    "    while counter < n:\n",
    "        yield a\n",
    "        # 临时保存a\n",
    "        c = a\n",
    "        a = b\n",
    "        b = c + b\n",
    "        counter += 1\n",
    "\n",
    "# 调用生成器的时候，并没有执行函数，而是生成一个迭代器\n",
    "it1 = makeNum(10)\n",
    "\n",
    "# 当调用 next 的时候才开始执行这个函数\n",
    "# 当函数执行到 yield 关键字的时候，会中断函数执行，并且将 yeild 后面的内容返回出去\n",
    "# 当再次调用 next, 会从中断执行的地方继续执行函数，直到再次碰到 yield\n",
    "for i in it1:\n",
    "    print(i)"
   ]
  },
  {
   "cell_type": "markdown",
   "id": "b78f855b-050f-4742-b658-e1fc6af77b88",
   "metadata": {},
   "source": [
    "## 文件读和写\n",
    "\n",
    "### open(filename, mode)\n",
    "* filename: 要访问的文件名称\n",
    "* mode: 打开文件模式"
   ]
  },
  {
   "cell_type": "markdown",
   "id": "59384a94-fa4b-4581-aa6c-bcfef240dbed",
   "metadata": {},
   "source": [
    "#### 写入文件"
   ]
  },
  {
   "cell_type": "code",
   "execution_count": 139,
   "id": "afc40288-c2a8-4165-af1c-a2b79d8e94b6",
   "metadata": {},
   "outputs": [],
   "source": [
    "# 1.打开文件\n",
    "f = open('lc.txt', 'w')\n",
    "\n",
    "# 2.写入内容\n",
    "f.write('python \\njava \\n')\n",
    "\n",
    "# 3.关闭打开文件\n",
    "f.close()"
   ]
  },
  {
   "cell_type": "markdown",
   "id": "0636af90-36ba-4e77-820b-836f260297be",
   "metadata": {},
   "source": [
    "#### 读取文件"
   ]
  },
  {
   "cell_type": "code",
   "execution_count": 140,
   "id": "ce452b2f-9b40-4231-bd77-b4985a7da22b",
   "metadata": {},
   "outputs": [
    {
     "name": "stdout",
     "output_type": "stream",
     "text": [
      "python \n",
      "java \n",
      "\n"
     ]
    }
   ],
   "source": [
    "f = open('lc.txt', 'r')\n",
    "text = f.read()\n",
    "f.close()\n",
    "print(text)"
   ]
  },
  {
   "cell_type": "code",
   "execution_count": 142,
   "id": "bec7f58e-d479-4b9e-89c6-2e2b696b0db5",
   "metadata": {},
   "outputs": [
    {
     "name": "stdout",
     "output_type": "stream",
     "text": [
      "python \n",
      "\n"
     ]
    }
   ],
   "source": [
    "# 单独读取一行\n",
    "f = open('lc.txt', 'r')\n",
    "lineText = f.readline()\n",
    "f.close()\n",
    "print(lineText)"
   ]
  },
  {
   "cell_type": "markdown",
   "id": "3f3cfc23-9e2f-4ede-8009-5d983bdef787",
   "metadata": {},
   "source": [
    "### 数据的序列化和反序列化\n",
    "\n",
    "* 序列化：程序中运行的对象信息存储到文件中，永久保存\n",
    "* 反序列化：将序列化的文件从磁盘读取出来运行到程序中"
   ]
  },
  {
   "cell_type": "markdown",
   "id": "93804687-4907-4a1a-9609-2e2b444aaaa0",
   "metadata": {},
   "source": [
    "### 序列化"
   ]
  },
  {
   "cell_type": "code",
   "execution_count": 143,
   "id": "7f498c9c-1cba-4886-ae89-780c053d75c4",
   "metadata": {},
   "outputs": [],
   "source": [
    "import pickle\n",
    "data1 = {\n",
    "    \"name\": \"小明\",\n",
    "    \"age\": \"16\",\n",
    "    \"type\": \"未成年\",\n",
    "}\n",
    "\n",
    "output = open('data.pkl', 'wb')\n",
    "\n",
    "# 将 data1 数据以二进制的形式写入 data.pkl 里\n",
    "pickle.dump(data1, output)\n",
    "\n",
    "output.close()"
   ]
  },
  {
   "cell_type": "markdown",
   "id": "40346732-4ae1-4011-8c02-f42b6844eb45",
   "metadata": {},
   "source": [
    "### 反序列化"
   ]
  },
  {
   "cell_type": "code",
   "execution_count": 145,
   "id": "8aa395b0-d1fd-495a-8d36-c8b5850c2542",
   "metadata": {},
   "outputs": [
    {
     "name": "stdout",
     "output_type": "stream",
     "text": [
      "{'name': '小明', 'age': '16', 'type': '未成年'}\n"
     ]
    }
   ],
   "source": [
    "import pickle\n",
    "f = open('data.pkl', 'rb')\n",
    "data2 = pickle.load(f)\n",
    "print(data2)"
   ]
  },
  {
   "cell_type": "markdown",
   "id": "be101f79-454e-4462-ab99-59c4d9bfc801",
   "metadata": {},
   "source": [
    "## 错误和异常\n",
    "\n",
    "语法：\n",
    "```\n",
    "try:\n",
    "    执行代码块\n",
    "expect error as e:\n",
    "    print(e)\n",
    "    处理错误代码\n",
    "```"
   ]
  },
  {
   "cell_type": "code",
   "execution_count": 147,
   "id": "64aef8b6-deb6-4a25-a564-0c637a1103aa",
   "metadata": {},
   "outputs": [
    {
     "name": "stdout",
     "output_type": "stream",
     "text": [
      "变量未定义\n"
     ]
    }
   ],
   "source": [
    "try:\n",
    "    x = m\n",
    "    x = int(input(\"请输入1个数字\"))\n",
    "except ValueError as error:\n",
    "    print(error)\n",
    "    print(\"您的值不是一个数字\")\n",
    "except NameError:\n",
    "    print(\"变量未定义\")\n",
    "else: \n",
    "     print(\"没有发生异常执行\")\n",
    "finally:\n",
    "    print(\"无论是否发生都会执行的代码\")"
   ]
  },
  {
   "cell_type": "code",
   "execution_count": null,
   "id": "c432ff70-5940-4208-9449-049dc80cfd9e",
   "metadata": {},
   "outputs": [],
   "source": [
    "try:\n",
    "    x = int(input(\"请输入1个数字\"))\n",
    "except Exception as error:\n",
    "    print(\"绝大部分异常\")\n",
    "finally:\n",
    "    print(\"无论是否发生都会执行的代码\")"
   ]
  },
  {
   "cell_type": "code",
   "execution_count": null,
   "id": "e48aacfd-63ea-4554-b51e-47048ac00ecc",
   "metadata": {},
   "outputs": [],
   "source": []
  }
 ],
 "metadata": {
  "kernelspec": {
   "display_name": "Python 3 (ipykernel)",
   "language": "python",
   "name": "python3"
  },
  "language_info": {
   "codemirror_mode": {
    "name": "ipython",
    "version": 3
   },
   "file_extension": ".py",
   "mimetype": "text/x-python",
   "name": "python",
   "nbconvert_exporter": "python",
   "pygments_lexer": "ipython3",
   "version": "3.12.6"
  }
 },
 "nbformat": 4,
 "nbformat_minor": 5
}
